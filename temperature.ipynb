{
 "cells": [
  {
   "cell_type": "code",
   "execution_count": 6,
   "id": "fbb30e3c-f4dc-45a0-8852-b0a35a69f15b",
   "metadata": {},
   "outputs": [
    {
     "name": "stdin",
     "output_type": "stream",
     "text": [
      "A의 체온을 입력:  36.8\n",
      "B의 체온을 입력:  39\n"
     ]
    }
   ],
   "source": [
    "temp1 = float(input(\"A의 체온을 입력: \"))\n",
    "temp2 = float(input(\"B의 체온을 입력: \"))"
   ]
  },
  {
   "cell_type": "code",
   "execution_count": 12,
   "id": "04c30f04-0103-48f3-9978-74d57af57a31",
   "metadata": {},
   "outputs": [],
   "source": [
    "def temperature(temp1, temp2):\n",
    "    if temp1 < 37.5:\n",
    "        print(\"✅ 정상입니다.\")\n",
    "\n",
    "    elif temp1 >= 37.5:\n",
    "        print(\"⚠️ 발열이 의심됩니다.\")\n",
    "\n",
    "    if temp2 < 37.5:\n",
    "        print(\"✅ 정상입니다.\")\n",
    "\n",
    "    elif temp2 >= 37.5:\n",
    "        print(\"⚠️ 발열이 의심됩니다.\")"
   ]
  },
  {
   "cell_type": "code",
   "execution_count": 14,
   "id": "a9b0c318-8cd6-41eb-aa58-52b1326f8cd9",
   "metadata": {},
   "outputs": [
    {
     "name": "stdout",
     "output_type": "stream",
     "text": [
      "✅ 정상입니다.\n",
      "⚠️ 발열이 의심됩니다.\n"
     ]
    }
   ],
   "source": [
    "temperature(temp1, temp2)"
   ]
  },
  {
   "cell_type": "code",
   "execution_count": null,
   "id": "1e70825b-a1ff-4596-ae53-817180ba030c",
   "metadata": {},
   "outputs": [],
   "source": []
  }
 ],
 "metadata": {
  "kernelspec": {
   "display_name": "Python 3 (ipykernel)",
   "language": "python",
   "name": "python3"
  },
  "language_info": {
   "codemirror_mode": {
    "name": "ipython",
    "version": 3
   },
   "file_extension": ".py",
   "mimetype": "text/x-python",
   "name": "python",
   "nbconvert_exporter": "python",
   "pygments_lexer": "ipython3",
   "version": "3.12.11"
  }
 },
 "nbformat": 4,
 "nbformat_minor": 5
}
