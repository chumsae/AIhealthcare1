{
 "cells": [
  {
   "cell_type": "code",
   "execution_count": 5,
   "id": "9012683b-63a2-410b-9a3a-14f3119f07ec",
   "metadata": {},
   "outputs": [],
   "source": [
    "name = 1258"
   ]
  },
  {
   "cell_type": "code",
   "execution_count": 2,
   "id": "18536c0a-0263-48d9-a2af-2b6aa27932fd",
   "metadata": {},
   "outputs": [],
   "source": [
    "Name = '박소희'"
   ]
  },
  {
   "cell_type": "code",
   "execution_count": 3,
   "id": "0ffc0d95-2751-470d-8664-659a84cc804b",
   "metadata": {},
   "outputs": [
    {
     "data": {
      "text/plain": [
       "123"
      ]
     },
     "execution_count": 3,
     "metadata": {},
     "output_type": "execute_result"
    }
   ],
   "source": [
    "name"
   ]
  },
  {
   "cell_type": "code",
   "execution_count": 4,
   "id": "b5490da0-1191-4490-9a2d-eff0330d033f",
   "metadata": {},
   "outputs": [
    {
     "data": {
      "text/plain": [
       "'박소희'"
      ]
     },
     "execution_count": 4,
     "metadata": {},
     "output_type": "execute_result"
    }
   ],
   "source": [
    "Name"
   ]
  },
  {
   "cell_type": "code",
   "execution_count": 6,
   "id": "b6936060-2d95-4aab-9f46-61da1e465abd",
   "metadata": {},
   "outputs": [
    {
     "data": {
      "text/plain": [
       "1258"
      ]
     },
     "execution_count": 6,
     "metadata": {},
     "output_type": "execute_result"
    }
   ],
   "source": [
    "name"
   ]
  },
  {
   "cell_type": "code",
   "execution_count": 8,
   "id": "b424f7c7-f691-4230-b4fb-7746301585c6",
   "metadata": {},
   "outputs": [
    {
     "name": "stdout",
     "output_type": "stream",
     "text": [
      "안녕하세요 소희 님\n"
     ]
    }
   ],
   "source": [
    "def greet(name):\n",
    "    print('안녕하세요', name, '님')\n",
    "    \n",
    "greet(\"소희\")"
   ]
  },
  {
   "cell_type": "code",
   "execution_count": 9,
   "id": "5ea0204c-0282-4788-9c93-3764eca43d06",
   "metadata": {},
   "outputs": [],
   "source": [
    "def add(a, b):\n",
    "    return a+b"
   ]
  },
  {
   "cell_type": "code",
   "execution_count": 17,
   "id": "22a7116b-9edd-4139-8b49-c76b52b27fec",
   "metadata": {},
   "outputs": [],
   "source": [
    "A = 10\n",
    "B = 20"
   ]
  },
  {
   "cell_type": "code",
   "execution_count": 14,
   "id": "6492016a-160b-48ee-b8e2-4705d5a81ca6",
   "metadata": {},
   "outputs": [],
   "source": [
    "result = add(1, 2)"
   ]
  },
  {
   "cell_type": "code",
   "execution_count": 15,
   "id": "f05a527b-5515-4297-b82e-8d5fed311f56",
   "metadata": {},
   "outputs": [
    {
     "data": {
      "text/plain": [
       "3"
      ]
     },
     "execution_count": 15,
     "metadata": {},
     "output_type": "execute_result"
    }
   ],
   "source": [
    "result"
   ]
  },
  {
   "cell_type": "code",
   "execution_count": 18,
   "id": "d77c8e43-98dc-491a-b0fd-bd35d73c08c6",
   "metadata": {},
   "outputs": [
    {
     "data": {
      "text/plain": [
       "30"
      ]
     },
     "execution_count": 18,
     "metadata": {},
     "output_type": "execute_result"
    }
   ],
   "source": [
    "add(A, B)"
   ]
  },
  {
   "cell_type": "code",
   "execution_count": 20,
   "id": "66c84fe8-53f8-402d-bcbb-f0dcb0e24789",
   "metadata": {},
   "outputs": [
    {
     "name": "stdout",
     "output_type": "stream",
     "text": [
      "A...B...C\n",
      "Hello World\n"
     ]
    }
   ],
   "source": [
    "print(\"A\", \"B\", \"C\", sep=\"...\")\n",
    "print(\"Hello\", end=\" \")\n",
    "print(\"World\")"
   ]
  },
  {
   "cell_type": "code",
   "execution_count": 25,
   "id": "6d3d66ee-cc9a-4171-8695-b733f4bf0e29",
   "metadata": {},
   "outputs": [
    {
     "name": "stdin",
     "output_type": "stream",
     "text": [
      "입력할 값:  234234235\n"
     ]
    }
   ],
   "source": [
    "value = int(input('입력할 값: '))"
   ]
  },
  {
   "cell_type": "code",
   "execution_count": 26,
   "id": "ba2b5d06-b21d-4d47-8388-f580fb23829f",
   "metadata": {},
   "outputs": [
    {
     "data": {
      "text/plain": [
       "234234235"
      ]
     },
     "execution_count": 26,
     "metadata": {},
     "output_type": "execute_result"
    }
   ],
   "source": [
    "value"
   ]
  },
  {
   "cell_type": "code",
   "execution_count": 27,
   "id": "c4c6eae0-70a2-476b-8fd7-90b69179331e",
   "metadata": {},
   "outputs": [
    {
     "name": "stdin",
     "output_type": "stream",
     "text": [
      "입력할 값:  1234\n"
     ]
    }
   ],
   "source": [
    "value = float(input('입력할 값: '))"
   ]
  },
  {
   "cell_type": "code",
   "execution_count": 28,
   "id": "34f29698-8c02-40ba-9df5-1a024d83da4e",
   "metadata": {},
   "outputs": [
    {
     "data": {
      "text/plain": [
       "1234.0"
      ]
     },
     "execution_count": 28,
     "metadata": {},
     "output_type": "execute_result"
    }
   ],
   "source": [
    "value"
   ]
  },
  {
   "cell_type": "code",
   "execution_count": 29,
   "id": "7401f16a-9ddc-4094-9542-abba720d35b8",
   "metadata": {},
   "outputs": [
    {
     "data": {
      "text/plain": [
       "str"
      ]
     },
     "execution_count": 29,
     "metadata": {},
     "output_type": "execute_result"
    }
   ],
   "source": [
    "type('string')"
   ]
  },
  {
   "cell_type": "code",
   "execution_count": 32,
   "id": "70b24b47-b698-4e4e-b617-9b16337242d9",
   "metadata": {},
   "outputs": [],
   "source": [
    "a = '박소희'"
   ]
  },
  {
   "cell_type": "code",
   "execution_count": 38,
   "id": "5a9f3845-c15e-42b9-b63a-ecf08720f11a",
   "metadata": {},
   "outputs": [],
   "source": [
    "test = '안녕하세요' + a + '감사합니다.'"
   ]
  },
  {
   "cell_type": "code",
   "execution_count": 41,
   "id": "d98ce1cd-cd38-4629-aa2b-cc75f6741893",
   "metadata": {},
   "outputs": [
    {
     "data": {
      "text/plain": [
       "'안녕하세요박소희감사합니다.'"
      ]
     },
     "execution_count": 41,
     "metadata": {},
     "output_type": "execute_result"
    }
   ],
   "source": [
    "test"
   ]
  },
  {
   "cell_type": "code",
   "execution_count": 37,
   "id": "ba855352-3c40-4199-9d11-cdeb588cdc7e",
   "metadata": {},
   "outputs": [],
   "source": [
    "test2 = f'안녕하세요 {a} 감사합니다.'"
   ]
  },
  {
   "cell_type": "code",
   "execution_count": 42,
   "id": "edbf96e2-1edf-4d21-8513-0a517ff63bf7",
   "metadata": {},
   "outputs": [
    {
     "data": {
      "text/plain": [
       "'안녕하세요 박소희 감사합니다.'"
      ]
     },
     "execution_count": 42,
     "metadata": {},
     "output_type": "execute_result"
    }
   ],
   "source": [
    "test2"
   ]
  },
  {
   "cell_type": "code",
   "execution_count": null,
   "id": "64a2f09c-cf2b-4786-a4ea-5de1d53cf7a9",
   "metadata": {},
   "outputs": [],
   "source": []
  },
  {
   "cell_type": "code",
   "execution_count": 52,
   "id": "75307212-267e-446d-b375-81a0551bc01e",
   "metadata": {},
   "outputs": [
    {
     "data": {
      "text/plain": [
       "'안녕하세요 저는 11111입니다. 감사합니다'"
      ]
     },
     "execution_count": 52,
     "metadata": {},
     "output_type": "execute_result"
    }
   ],
   "source": [
    "work"
   ]
  },
  {
   "cell_type": "code",
   "execution_count": 39,
   "id": "c3b4cd1f-ba34-4b56-9c1c-f9efd2c40ce5",
   "metadata": {},
   "outputs": [],
   "source": [
    "test3 = '안녕하세요 {} 감사합니다'.format(a)"
   ]
  },
  {
   "cell_type": "code",
   "execution_count": 40,
   "id": "e5e629c6-c2cf-4da4-b0b3-f8afb911db80",
   "metadata": {},
   "outputs": [
    {
     "data": {
      "text/plain": [
       "'안녕하세요 박소희 감사합니다'"
      ]
     },
     "execution_count": 40,
     "metadata": {},
     "output_type": "execute_result"
    }
   ],
   "source": [
    "test3"
   ]
  },
  {
   "cell_type": "code",
   "execution_count": 43,
   "id": "91654c9b-0a92-4ea2-af0e-55fea33b0d65",
   "metadata": {},
   "outputs": [
    {
     "name": "stdin",
     "output_type": "stream",
     "text": [
      "첫 번째 숫자:  11111\n",
      "두 번째 숫자:  22222\n"
     ]
    }
   ],
   "source": [
    "a = int(input(\"첫 번째 숫자: \"))\n",
    "b = int(input(\"두 번째 숫자: \"))"
   ]
  },
  {
   "cell_type": "code",
   "execution_count": 44,
   "id": "d722a458-642c-42aa-b7d0-f23c70d30ad6",
   "metadata": {},
   "outputs": [
    {
     "data": {
      "text/plain": [
       "11111"
      ]
     },
     "execution_count": 44,
     "metadata": {},
     "output_type": "execute_result"
    }
   ],
   "source": [
    "a"
   ]
  },
  {
   "cell_type": "code",
   "execution_count": 45,
   "id": "75f081a9-4e94-40ad-bfac-5af1d304edc8",
   "metadata": {},
   "outputs": [
    {
     "data": {
      "text/plain": [
       "22222"
      ]
     },
     "execution_count": 45,
     "metadata": {},
     "output_type": "execute_result"
    }
   ],
   "source": [
    "b"
   ]
  },
  {
   "cell_type": "code",
   "execution_count": 54,
   "id": "cbb39df4-68a5-41ba-a21f-8d09f3e0aad4",
   "metadata": {},
   "outputs": [],
   "source": [
    "c = '31세'\n",
    "d = '박소희'"
   ]
  },
  {
   "cell_type": "code",
   "execution_count": 59,
   "id": "fbc4fac9-cd1a-4bb0-99bc-b072ed41cf18",
   "metadata": {},
   "outputs": [],
   "source": [
    "work = f'안녕하세요 저는 {c} {d}입니다. 감사합니다'"
   ]
  },
  {
   "cell_type": "code",
   "execution_count": 56,
   "id": "7fb3401d-27df-41c8-ba13-e8e678f79c45",
   "metadata": {},
   "outputs": [
    {
     "data": {
      "text/plain": [
       "'안녕하세요 저는 31세 박소희입니다. 감사합니다'"
      ]
     },
     "execution_count": 56,
     "metadata": {},
     "output_type": "execute_result"
    }
   ],
   "source": [
    "work"
   ]
  },
  {
   "cell_type": "code",
   "execution_count": 46,
   "id": "9d3d10a2-7896-4a76-99a1-8e7a4015c0b0",
   "metadata": {},
   "outputs": [
    {
     "name": "stdout",
     "output_type": "stream",
     "text": [
      "정상 체중입니다.\n"
     ]
    }
   ],
   "source": [
    "cm = 163\n",
    "kg = 63\n",
    "bmi = kg / ((cm / 100) ** 2)\n",
    "\n",
    "if bmi >= 25:\n",
    "    print(\"과체중입니다.\")\n",
    "\n",
    "else:\n",
    "    print(\"정상 체중입니다.\")"
   ]
  },
  {
   "cell_type": "code",
   "execution_count": 1,
   "id": "1bc53411-8e42-4825-b08c-6cc6911cba37",
   "metadata": {},
   "outputs": [
    {
     "name": "stdin",
     "output_type": "stream",
     "text": [
      "몸무게(kg):  63\n",
      "키(cm):  163\n"
     ]
    },
    {
     "name": "stdout",
     "output_type": "stream",
     "text": [
      "23\n"
     ]
    }
   ],
   "source": [
    "weight = float(input(\"몸무게(kg): \"))\n",
    "height = float(input(\"키(cm): \"))\n",
    "\n",
    "bmi = weight / ((height / 100) ** 2)\n",
    "\n",
    "print (int(bmi))"
   ]
  },
  {
   "cell_type": "code",
   "execution_count": null,
   "id": "2abcf9be-5818-4bd3-b866-922ea107831e",
   "metadata": {},
   "outputs": [],
   "source": []
  }
 ],
 "metadata": {
  "kernelspec": {
   "display_name": "Python 3 (ipykernel)",
   "language": "python",
   "name": "python3"
  },
  "language_info": {
   "codemirror_mode": {
    "name": "ipython",
    "version": 3
   },
   "file_extension": ".py",
   "mimetype": "text/x-python",
   "name": "python",
   "nbconvert_exporter": "python",
   "pygments_lexer": "ipython3",
   "version": "3.12.11"
  }
 },
 "nbformat": 4,
 "nbformat_minor": 5
}
